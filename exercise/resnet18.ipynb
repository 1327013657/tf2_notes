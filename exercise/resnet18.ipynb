{
  "nbformat": 4,
  "nbformat_minor": 0,
  "metadata": {
    "kernelspec": {
      "display_name": "Python 3",
      "language": "python",
      "name": "python3"
    },
    "language_info": {
      "codemirror_mode": {
        "name": "ipython",
        "version": 3
      },
      "file_extension": ".py",
      "mimetype": "text/x-python",
      "name": "python",
      "nbconvert_exporter": "python",
      "pygments_lexer": "ipython3",
      "version": "3.5.2"
    },
    "colab": {
      "name": "resnet18.ipynb",
      "provenance": [],
      "collapsed_sections": [],
      "toc_visible": true
    },
    "accelerator": "GPU"
  },
  "cells": [
    {
      "cell_type": "code",
      "metadata": {
        "id": "BuPU4Ta6XA9U",
        "colab_type": "code",
        "outputId": "f9a29e25-e77c-4a95-e96c-5543f261dc12",
        "colab": {
          "base_uri": "https://localhost:8080/",
          "height": 51
        }
      },
      "source": [
        "%tensorflow_version 2.x\n",
        "import tensorflow as tf\n",
        "print(tf.__version__)\n",
        "device_name = tf.test.gpu_device_name()\n",
        "if device_name != '/device:GPU:0':\n",
        "  raise SystemError('GPU device not found')\n",
        "print('Found GPU at: {}'.format(device_name))"
      ],
      "execution_count": 0,
      "outputs": [
        {
          "output_type": "stream",
          "text": [
            "2.2.0-rc3\n",
            "Found GPU at: /device:GPU:0\n"
          ],
          "name": "stdout"
        }
      ]
    },
    {
      "cell_type": "code",
      "metadata": {
        "id": "NZUYA6YqTrti",
        "colab_type": "code",
        "outputId": "0f441b51-455f-4254-bd96-3978c5566bb1",
        "colab": {
          "base_uri": "https://localhost:8080/",
          "height": 122
        }
      },
      "source": [
        "from google.colab import drive\n",
        "drive.mount('/content/gdrive')\n",
        "#4/zAGkipCyWSnoEY7AsX4slThoFcLay65r5Vk6YekqE5tNTQXmzWL2fDE\n",
        "#"
      ],
      "execution_count": 0,
      "outputs": [
        {
          "output_type": "stream",
          "text": [
            "Go to this URL in a browser: https://accounts.google.com/o/oauth2/auth?client_id=947318989803-6bn6qk8qdgf4n4g3pfee6491hc0brc4i.apps.googleusercontent.com&redirect_uri=urn%3aietf%3awg%3aoauth%3a2.0%3aoob&response_type=code&scope=email%20https%3a%2f%2fwww.googleapis.com%2fauth%2fdocs.test%20https%3a%2f%2fwww.googleapis.com%2fauth%2fdrive%20https%3a%2f%2fwww.googleapis.com%2fauth%2fdrive.photos.readonly%20https%3a%2f%2fwww.googleapis.com%2fauth%2fpeopleapi.readonly\n",
            "\n",
            "Enter your authorization code:\n",
            "··········\n",
            "Mounted at /content/gdrive\n"
          ],
          "name": "stdout"
        }
      ]
    },
    {
      "cell_type": "code",
      "metadata": {
        "id": "Wegi7sKXSL43",
        "colab_type": "code",
        "outputId": "e966d970-1802-4797-9d53-1338742e22e7",
        "colab": {
          "base_uri": "https://localhost:8080/",
          "height": 68
        }
      },
      "source": [
        "\n",
        "cifar10 = tf.keras.datasets.cifar10\n",
        "\n",
        "(x_train, y_train), (x_test, y_test) = cifar10.load_data()\n",
        "x_train, x_test = x_train / 255.0, x_test / 255.0\n",
        "\n",
        "#x_validation = x_train[40000:]\n",
        "#y_validation = y_train[40000:]\n",
        "\n",
        "#x_train = x_train[:40000]\n",
        "#y_train = y_train[:40000]\n",
        "\n",
        "\n",
        "#x_test = x_test[]\n",
        "#y_test = y_test[:100]\n",
        "print(x_train.shape, y_train.shape, x_test.shape, y_test.shape)"
      ],
      "execution_count": 0,
      "outputs": [
        {
          "output_type": "stream",
          "text": [
            "Downloading data from https://www.cs.toronto.edu/~kriz/cifar-10-python.tar.gz\n",
            "170500096/170498071 [==============================] - 11s 0us/step\n",
            "(50000, 32, 32, 3) (50000, 1) (10000, 32, 32, 3) (10000, 1)\n"
          ],
          "name": "stdout"
        }
      ]
    },
    {
      "cell_type": "code",
      "metadata": {
        "id": "1QMtjOSJWKfb",
        "colab_type": "code",
        "colab": {}
      },
      "source": [
        ""
      ],
      "execution_count": 0,
      "outputs": []
    },
    {
      "cell_type": "code",
      "metadata": {
        "id": "y9v3oEWOSL56",
        "colab_type": "code",
        "outputId": "4d26ee14-0282-4bf8-f312-3d547c6ed95d",
        "colab": {
          "base_uri": "https://localhost:8080/",
          "height": 374
        }
      },
      "source": [
        "import numpy as np\n",
        "from tensorflow.keras.layers import Conv2D, BatchNormalization, Activation, MaxPool2D, Dropout, Flatten, Dense\n",
        "from tensorflow.keras import Model\n",
        "import tensorflow as tf\n",
        "\n",
        "np.set_printoptions(threshold=np.inf)\n",
        "\n",
        "class ResnetBlock(Model):\n",
        "\n",
        "    def __init__(self, filters, strides=1, residual_path=False):\n",
        "        super(ResnetBlock, self).__init__()\n",
        "        self.filters = filters\n",
        "        self.strides = strides\n",
        "        self.residual_path = residual_path\n",
        "\n",
        "        self.c1 = Conv2D(filters, (3, 3), strides=strides, padding='same', use_bias=False, input_shape=(32,32,3))\n",
        "        self.b1 = BatchNormalization()\n",
        "        self.a1 = Activation('relu')\n",
        "\n",
        "        self.c2 = Conv2D(filters, (3, 3), strides=1, padding='same', use_bias=False)\n",
        "        self.b2 = BatchNormalization()\n",
        "\n",
        "        # residual_path为True时，对输入进行下采样，即用1x1的卷积核做卷积操作，保证x能和F(x)维度相同，顺利相加\n",
        "        if residual_path:\n",
        "            self.down_c1 = Conv2D(filters, (1, 1), strides=strides, padding='same', use_bias=False)\n",
        "            self.down_b1 = BatchNormalization()\n",
        "        \n",
        "        self.a2 = Activation('relu')\n",
        "\n",
        "    def call(self, inputs):\n",
        "        residual = inputs  # residual等于输入值本身，即residual=x\n",
        "        # 将输入通过卷积、BN层、激活层，计算F(x)\n",
        "        x = self.c1(inputs)\n",
        "        x = self.b1(x)\n",
        "        x = self.a1(x)\n",
        "\n",
        "        x = self.c2(x)\n",
        "        y = self.b2(x)\n",
        "\n",
        "        if self.residual_path:\n",
        "            residual = self.down_c1(inputs)\n",
        "            residual = self.down_b1(residual)\n",
        "\n",
        "        out = self.a2(y + residual)  # 最后输出的是两部分的和，即F(x)+x或F(x)+Wx,再过激活函数\n",
        "        return out\n",
        "\n",
        "\n",
        "class ResNet18(Model):\n",
        "\n",
        "    def __init__(self, block_list, initial_filters=64):  # block_list表示每个block有几个卷积层\n",
        "        super(ResNet18, self).__init__()\n",
        "        self.num_blocks = len(block_list)  # 共有几个block\n",
        "        self.block_list = block_list\n",
        "        self.out_filters = initial_filters\n",
        "        self.c1 = Conv2D(self.out_filters, (3, 3), strides=1, padding='same', use_bias=False)\n",
        "        self.b1 = BatchNormalization()\n",
        "        self.a1 = Activation('relu')\n",
        "        self.blocks = tf.keras.models.Sequential()\n",
        "        # 构建ResNet网络结构\n",
        "        for block_id in range(len(block_list)):  # 第几个resnet block\n",
        "            for layer_id in range(block_list[block_id]):  # 第几个卷积层\n",
        "\n",
        "                if block_id != 0 and layer_id == 0:  # 对除第一个block以外的每个block的输入进行下采样\n",
        "                    block = ResnetBlock(self.out_filters, strides=2, residual_path=True)\n",
        "                else:\n",
        "                    block = ResnetBlock(self.out_filters, residual_path=False)\n",
        "                self.blocks.add(block)  # 将构建好的block加入resnet\n",
        "            self.out_filters *= 2  # 下一个block的卷积核数是上一个block的2倍\n",
        "        self.p1 = tf.keras.layers.GlobalAveragePooling2D()\n",
        "        #self.d1 = tf.keras.layers.Dropout(0.3)\n",
        "        #self.b2 = BatchNormalization()\n",
        "        #self.a2 = Activation('relu')\n",
        "        self.f1 = tf.keras.layers.Dense(10, activation='softmax', kernel_regularizer=tf.keras.regularizers.l2())\n",
        "\n",
        "    def call(self, inputs):\n",
        "        x = self.c1(inputs)\n",
        "        x = self.b1(x)\n",
        "        x = self.a1(x)\n",
        "        x = self.blocks(x)\n",
        "        #x = self.b2(x)\n",
        "        #x = self.a2(x)\n",
        "        x = self.p1(x)\n",
        "        #x = self.d1(x)\n",
        "        y = self.f1(x)\n",
        "        return y\n",
        "\n",
        "\n",
        "model = ResNet18([2, 2, 2, 2])\n",
        "\n",
        "model.compile(optimizer='adam',\n",
        "       loss='sparse_categorical_crossentropy',\n",
        "       metrics=['sparse_categorical_accuracy'])\n",
        "\n",
        "model_filename = '/content/gdrive/My Drive/cifarResnet18.h5'\n",
        "pred = model.predict(x_test[0].reshape(-1,32,32,3))\n",
        "model.summary()\n",
        "try:\n",
        "    model.load_weights(model_filename)\n",
        "    print(\"load model pass\")\n",
        "except:\n",
        "    print(\"failed load\")\n",
        "    \n",
        "\n"
      ],
      "execution_count": 0,
      "outputs": [
        {
          "output_type": "stream",
          "text": [
            "Model: \"res_net18\"\n",
            "_________________________________________________________________\n",
            "Layer (type)                 Output Shape              Param #   \n",
            "=================================================================\n",
            "conv2d (Conv2D)              multiple                  1728      \n",
            "_________________________________________________________________\n",
            "batch_normalization (BatchNo multiple                  256       \n",
            "_________________________________________________________________\n",
            "activation (Activation)      multiple                  0         \n",
            "_________________________________________________________________\n",
            "sequential (Sequential)      multiple                  11176448  \n",
            "_________________________________________________________________\n",
            "global_average_pooling2d (Gl multiple                  0         \n",
            "_________________________________________________________________\n",
            "dense (Dense)                multiple                  5130      \n",
            "=================================================================\n",
            "Total params: 11,183,562\n",
            "Trainable params: 11,173,962\n",
            "Non-trainable params: 9,600\n",
            "_________________________________________________________________\n",
            "load model pass\n"
          ],
          "name": "stdout"
        }
      ]
    },
    {
      "cell_type": "markdown",
      "metadata": {
        "id": "zawL5_y5SL7A",
        "colab_type": "text"
      },
      "source": [
        "## 模型训练"
      ]
    },
    {
      "cell_type": "code",
      "metadata": {
        "id": "-notP8PnSL7F",
        "colab_type": "code",
        "outputId": "728875b4-abd6-4a95-b928-bd06de56c643",
        "colab": {
          "base_uri": "https://localhost:8080/",
          "height": 233
        }
      },
      "source": [
        "from tensorflow.keras.preprocessing.image import ImageDataGenerator\n",
        "batch_size = 128\n",
        "epochs = 100\n",
        "patience = 30\n",
        "logdir = './results/tb_results'\n",
        "\n",
        "def lr_schedule(epoch):\n",
        "    \"\"\"Learning Rate Schedule\n",
        "\n",
        "    Learning rate is scheduled to be reduced after 80, 120, 160, 180 epochs.\n",
        "    Called automatically every epoch as part of callbacks during training.\n",
        "\n",
        "    # Arguments\n",
        "        epoch (int): The number of epochs\n",
        "\n",
        "    # Returns\n",
        "        lr (float32): learning rate\n",
        "    \"\"\"\n",
        "    lr = 1e-3\n",
        "    if epoch > 180:\n",
        "        lr *= 0.5e-3\n",
        "    elif epoch > 160:\n",
        "        lr *= 1e-3\n",
        "    elif epoch > 120:\n",
        "        lr *= 1e-2\n",
        "    elif epoch > 80:\n",
        "        lr *= 1e-1\n",
        "    print('Learning rate: ', lr)\n",
        "    return lr\n",
        "\n",
        "callbacks = [\n",
        "    tf.keras.callbacks.TensorBoard(log_dir=logdir),\n",
        "    tf.keras.callbacks.ModelCheckpoint(filepath=model_filename,\n",
        "                      save_weights_only=True,\n",
        "                      save_best_only=True,\n",
        "                      verbose=1),\n",
        "    tf.keras.callbacks.EarlyStopping(monitor='val_loss',patience=patience),\n",
        "    tf.keras.callbacks.ReduceLROnPlateau(factor=np.sqrt(0.1),\n",
        "                      cooldown=0,\n",
        "                      patience=6,\n",
        "                      min_lr=1.0e-5),\n",
        "    #tf.keras.callbacks.LearningRateScheduler(lr_schedule)\n",
        "]\n",
        "\n",
        "image_gen_train = ImageDataGenerator(\n",
        "    # set input mean to 0 over the dataset\n",
        "        featurewise_center=False,\n",
        "        # set each sample mean to 0\n",
        "        samplewise_center=False,\n",
        "        # divide inputs by std of dataset\n",
        "        featurewise_std_normalization=False,\n",
        "        # divide each input by its std\n",
        "        samplewise_std_normalization=False,\n",
        "        # apply ZCA whitening\n",
        "        zca_whitening=False,\n",
        "        # epsilon for ZCA whitening\n",
        "        zca_epsilon=1e-06,\n",
        "        # randomly rotate images in the range (deg 0 to 180)\n",
        "        rotation_range=20,\n",
        "        # randomly shift images horizontally\n",
        "        width_shift_range=0.1,\n",
        "        # randomly shift images vertically\n",
        "        height_shift_range=0.1,\n",
        "        # set range for random shear\n",
        "        shear_range=0.,\n",
        "        # set range for random zoom\n",
        "        zoom_range=0.1,\n",
        "        # set range for random channel shifts\n",
        "        channel_shift_range=0.1,\n",
        "        # set mode for filling points outside the input boundaries\n",
        "        fill_mode='nearest',\n",
        "        # value used for fill_mode = \"constant\"\n",
        "        cval=0.,\n",
        "        # randomly flip images\n",
        "        horizontal_flip=True,\n",
        "        # randomly flip images\n",
        "        vertical_flip=False,\n",
        "        # set rescaling factor (applied before any other transformation)\n",
        "        rescale=None,\n",
        "        # set function that will be applied on each input\n",
        "        preprocessing_function=None,\n",
        "        # image data format, either \"channels_first\" or \"channels_last\"\n",
        "        data_format=None,\n",
        "        # fraction of images reserved for validation (strictly between 0 and 1)\n",
        "        validation_split=0.0\n",
        ")\n",
        "image_gen_train.fit(x_train)\n",
        "\n",
        "history = model.fit_generator(#x_train, y_train,\n",
        "           image_gen_train.flow(x_train, y_train, batch_size=batch_size), \n",
        "           steps_per_epoch=(len(x_train))/batch_size, \n",
        "           epochs=epochs,\n",
        "           workers=4,\n",
        "           validation_data=(x_test, y_test), \n",
        "           callbacks=callbacks)\n",
        "model.summary()\n",
        "\n",
        "\n"
      ],
      "execution_count": 0,
      "outputs": [
        {
          "output_type": "error",
          "ename": "NameError",
          "evalue": "ignored",
          "traceback": [
            "\u001b[0;31m---------------------------------------------------------------------------\u001b[0m",
            "\u001b[0;31mNameError\u001b[0m                                 Traceback (most recent call last)",
            "\u001b[0;32m<ipython-input-6-f390f4203045>\u001b[0m in \u001b[0;36m<module>\u001b[0;34m()\u001b[0m\n\u001b[1;32m     87\u001b[0m \u001b[0mimage_gen_train\u001b[0m\u001b[0;34m.\u001b[0m\u001b[0mfit\u001b[0m\u001b[0;34m(\u001b[0m\u001b[0mx_train\u001b[0m\u001b[0;34m)\u001b[0m\u001b[0;34m\u001b[0m\u001b[0;34m\u001b[0m\u001b[0m\n\u001b[1;32m     88\u001b[0m \u001b[0;34m\u001b[0m\u001b[0m\n\u001b[0;32m---> 89\u001b[0;31m history = model.fit_generator(#x_train, y_train,\n\u001b[0m\u001b[1;32m     90\u001b[0m            \u001b[0mimage_gen_train\u001b[0m\u001b[0;34m.\u001b[0m\u001b[0mflow\u001b[0m\u001b[0;34m(\u001b[0m\u001b[0mx_train\u001b[0m\u001b[0;34m,\u001b[0m \u001b[0my_train\u001b[0m\u001b[0;34m,\u001b[0m \u001b[0mbatch_size\u001b[0m\u001b[0;34m=\u001b[0m\u001b[0mbatch_size\u001b[0m\u001b[0;34m)\u001b[0m\u001b[0;34m,\u001b[0m\u001b[0;34m\u001b[0m\u001b[0;34m\u001b[0m\u001b[0m\n\u001b[1;32m     91\u001b[0m            \u001b[0msteps_per_epoch\u001b[0m\u001b[0;34m=\u001b[0m\u001b[0;34m(\u001b[0m\u001b[0mlen\u001b[0m\u001b[0;34m(\u001b[0m\u001b[0mx_train\u001b[0m\u001b[0;34m)\u001b[0m\u001b[0;34m)\u001b[0m\u001b[0;34m/\u001b[0m\u001b[0mbatch_size\u001b[0m\u001b[0;34m,\u001b[0m\u001b[0;34m\u001b[0m\u001b[0;34m\u001b[0m\u001b[0m\n",
            "\u001b[0;31mNameError\u001b[0m: name 'model' is not defined"
          ]
        }
      ]
    },
    {
      "cell_type": "code",
      "metadata": {
        "id": "TYyYJGRbdzGu",
        "colab_type": "code",
        "colab": {}
      },
      "source": [
        ""
      ],
      "execution_count": 0,
      "outputs": []
    },
    {
      "cell_type": "code",
      "metadata": {
        "id": "L1LFQbk6SL9x",
        "colab_type": "code",
        "outputId": "49bb2277-d655-4e23-dd4c-c64c6b92c23c",
        "colab": {
          "base_uri": "https://localhost:8080/",
          "height": 541
        }
      },
      "source": [
        "import matplotlib.pyplot as plt\n",
        "\n",
        "def visual_train_history(history, train_metric, validation_metric):\n",
        "    plt.plot(history.history[train_metric])\n",
        "    plt.plot(history.history[validation_metric])\n",
        "    plt.ylabel(train_metric)\n",
        "    plt.xlabel('epochs')\n",
        "    plt.legend(['train','validation'], loc='lower right')\n",
        "    plt.show()\n",
        "visual_train_history(history, 'sparse_categorical_accuracy', 'val_sparse_categorical_accuracy')\n",
        "visual_train_history(history, 'loss', 'val_loss')"
      ],
      "execution_count": 0,
      "outputs": [
        {
          "output_type": "display_data",
          "data": {
            "image/png": "[encoded data removed]",
            "text/plain": [
              "<Figure size 432x288 with 1 Axes>"
            ]
          },
          "metadata": {
            "tags": [],
            "needs_background": "light"
          }
        },
        {
          "output_type": "display_data",
          "data": {
            "image/png": "[encoded data removed]",
            "text/plain": [
              "<Figure size 432x288 with 1 Axes>"
            ]
          },
          "metadata": {
            "tags": [],
            "needs_background": "light"
          }
        }
      ]
    },
    {
      "cell_type": "code",
      "metadata": {
        "id": "rwuQwqyRSL-P",
        "colab_type": "code",
        "outputId": "8e7786bf-632e-4b9b-e631-79a3cc62752a",
        "colab": {
          "base_uri": "https://localhost:8080/",
          "height": 697
        }
      },
      "source": [
        "history.history\n"
      ],
      "execution_count": 0,
      "outputs": [
        {
          "output_type": "execute_result",
          "data": {
            "text/plain": [
              "{'loss': [1.20095956325531,\n",
              "  0.9903414249420166,\n",
              "  0.9078236222267151,\n",
              "  0.8494119644165039,\n",
              "  0.8071415424346924,\n",
              "  0.7674978971481323,\n",
              "  0.7365967035293579,\n",
              "  0.7115366458892822,\n",
              "  0.680162787437439,\n",
              "  0.6682966351509094],\n",
              " 'sparse_categorical_accuracy': [0.604200005531311,\n",
              "  0.667900025844574,\n",
              "  0.6937199831008911,\n",
              "  0.7148600220680237,\n",
              "  0.7325400114059448,\n",
              "  0.743619978427887,\n",
              "  0.7548999786376953,\n",
              "  0.7653800249099731,\n",
              "  0.7762600183486938,\n",
              "  0.7790600061416626],\n",
              " 'val_loss': [0.8746910095214844,\n",
              "  0.9618813991546631,\n",
              "  0.8500453233718872,\n",
              "  0.6500875353813171,\n",
              "  0.6365674734115601,\n",
              "  0.67503422498703,\n",
              "  0.5965862274169922,\n",
              "  0.574257493019104,\n",
              "  0.6203256845474243,\n",
              "  0.6331219673156738],\n",
              " 'val_sparse_categorical_accuracy': [0.7141000032424927,\n",
              "  0.6913999915122986,\n",
              "  0.7318000197410583,\n",
              "  0.7832000255584717,\n",
              "  0.7921000123023987,\n",
              "  0.782800018787384,\n",
              "  0.8043000102043152,\n",
              "  0.8174999952316284,\n",
              "  0.8052999973297119,\n",
              "  0.7990000247955322]}"
            ]
          },
          "metadata": {
            "tags": []
          },
          "execution_count": 24
        }
      ]
    },
    {
      "cell_type": "markdown",
      "metadata": {
        "id": "peIkePjKSL-d",
        "colab_type": "text"
      },
      "source": [
        "## 模型评价"
      ]
    },
    {
      "cell_type": "code",
      "metadata": {
        "id": "VwKS059BSL-g",
        "colab_type": "code",
        "outputId": "956dcfc8-b484-4910-8e49-4fc25c6d22bd",
        "colab": {
          "base_uri": "https://localhost:8080/",
          "height": 425
        }
      },
      "source": [
        "import numpy as np\n",
        "import matplotlib.pyplot as plt\n",
        "model_filename = '/content/gdrive/My Drive/cifarResnet18.h5'\n",
        "try:\n",
        "    model.load_weights(model_filename)\n",
        "    print(\"load model pass\")\n",
        "except:\n",
        "    print(\"load model fail\")\n",
        "    \n",
        "model.evaluate(x_test, y_test)\n",
        "pred = model.predict(x_test)\n",
        "pred = np.argmax(pred, axis=1)\n",
        "print(pred[:50])\n",
        "\n",
        "label_dict={0:\"airplane\", 1:\"automobile\", 2:\"bird\", 3:\"cat\",4:\"deer\",\n",
        "            5:\"dog\",6:\"frog\",7:\"horse\",8:\"ship\",9:\"truck\"}\n",
        "\n",
        "def plot_prediction(images, labels, preds, index, nums=5):\n",
        "    fig = plt.gcf()\n",
        "    fig.set_size_inches(12,6)\n",
        "    if nums > 10:\n",
        "        nums = 10\n",
        "    for i in range(nums):\n",
        "        ax = plt.subplot(2,5,i+1)\n",
        "        ax.imshow(images[index])\n",
        "        title = str(i) + label_dict[labels[index][0]]\n",
        "        if (len(preds)>0):\n",
        "            title += \"  ==>  \" + label_dict[preds[index]]\n",
        "        ax.set_title(title, fontsize=12)\n",
        "        index +=1\n",
        "    plt.show()\n",
        "plot_prediction(x_test, y_test, pred, 0 ,10)\n",
        "\n",
        "\n"
      ],
      "execution_count": 0,
      "outputs": [
        {
          "output_type": "stream",
          "text": [
            "load model pass\n",
            "313/313 [==============================] - 10s 32ms/step - loss: 0.3418 - sparse_categorical_accuracy: 0.9226\n",
            "[3 8 8 0 6 6 1 6 3 1 0 9 5 7 9 8 5 7 8 6 7 0 4 9 5 2 4 0 9 6 6 5 4 5 9 2 4\n",
            " 9 9 5 4 6 5 6 0 9 3 1 7 6]\n"
          ],
          "name": "stdout"
        },
        {
          "output_type": "display_data",
          "data": {
            "image/png": "[encoded data removed]",
            "text/plain": [
              "<Figure size 864x432 with 10 Axes>"
            ]
          },
          "metadata": {
            "tags": [],
            "needs_background": "light"
          }
        }
      ]
    },
    {
      "cell_type": "code",
      "metadata": {
        "colab_type": "code",
        "id": "B_Afk2fMVIqY",
        "colab": {}
      },
      "source": [
        "!cp results/cifarResnet18.h5 /content/gdrive/My\\ Drive\n"
      ],
      "execution_count": 0,
      "outputs": []
    },
    {
      "cell_type": "code",
      "metadata": {
        "id": "Cns4rrXUSL-t",
        "colab_type": "code",
        "outputId": "f2ef5ef3-0254-4f39-c20a-bb9edeacbf8d",
        "colab": {
          "base_uri": "https://localhost:8080/",
          "height": 122
        }
      },
      "source": [
        "from google.colab import drive\n",
        "drive.mount('/content/gdrive')"
      ],
      "execution_count": 0,
      "outputs": [
        {
          "output_type": "stream",
          "text": [
            "Go to this URL in a browser: https://accounts.google.com/o/oauth2/auth?client_id=947318989803-6bn6qk8qdgf4n4g3pfee6491hc0brc4i.apps.googleusercontent.com&redirect_uri=urn%3aietf%3awg%3aoauth%3a2.0%3aoob&response_type=code&scope=email%20https%3a%2f%2fwww.googleapis.com%2fauth%2fdocs.test%20https%3a%2f%2fwww.googleapis.com%2fauth%2fdrive%20https%3a%2f%2fwww.googleapis.com%2fauth%2fdrive.photos.readonly%20https%3a%2f%2fwww.googleapis.com%2fauth%2fpeopleapi.readonly\n",
            "\n",
            "Enter your authorization code:\n",
            "··········\n",
            "Mounted at /content/gdrive\n"
          ],
          "name": "stdout"
        }
      ]
    },
    {
      "cell_type": "code",
      "metadata": {
        "id": "zRyNY0Uc6yHW",
        "colab_type": "code",
        "outputId": "7fcc4608-76a0-4740-9466-30ab1e7fdc6e",
        "colab": {
          "base_uri": "https://localhost:8080/",
          "height": 34
        }
      },
      "source": [
        "!ls /content/gdrive\n"
      ],
      "execution_count": 0,
      "outputs": [
        {
          "output_type": "stream",
          "text": [
            "'My Drive'\n"
          ],
          "name": "stdout"
        }
      ]
    },
    {
      "cell_type": "code",
      "metadata": {
        "id": "UfvC6ie47Hhj",
        "colab_type": "code",
        "outputId": "01f701c4-ca71-48e8-c361-3a5e34767af8",
        "colab": {
          "base_uri": "https://localhost:8080/",
          "height": 34
        }
      },
      "source": [
        "!ls /content/gdrive/My\\ Drive\n"
      ],
      "execution_count": 0,
      "outputs": [
        {
          "output_type": "stream",
          "text": [
            " cifarResnet18.h5  'Colab Notebooks'   Untitled0.ipynb\n"
          ],
          "name": "stdout"
        }
      ]
    },
    {
      "cell_type": "code",
      "metadata": {
        "id": "NYVmERXb7NXF",
        "colab_type": "code",
        "colab": {}
      },
      "source": [
        "!cp results/cifarResnet18.h5 /content/gdrive/My\\ Drive\n"
      ],
      "execution_count": 0,
      "outputs": []
    },
    {
      "cell_type": "code",
      "metadata": {
        "id": "_4DzeiejWerA",
        "colab_type": "code",
        "colab": {}
      },
      "source": [
        "!mkdir results"
      ],
      "execution_count": 0,
      "outputs": []
    },
    {
      "cell_type": "code",
      "metadata": {
        "id": "XFrRmh7T7feU",
        "colab_type": "code",
        "colab": {}
      },
      "source": [
        "!cp /content/gdrive/My\\ Drive/cifarResnet18.h5 results/"
      ],
      "execution_count": 0,
      "outputs": []
    },
    {
      "cell_type": "code",
      "metadata": {
        "id": "DX0gcIXeVpqm",
        "colab_type": "code",
        "outputId": "bfbb5830-099d-4e10-dddb-0ef78372664c",
        "colab": {
          "base_uri": "https://localhost:8080/",
          "height": 289
        }
      },
      "source": [
        "!nvidia-smi"
      ],
      "execution_count": 0,
      "outputs": [
        {
          "output_type": "stream",
          "text": [
            "Mon Apr 27 12:53:03 2020       \n",
            "+-----------------------------------------------------------------------------+\n",
            "| NVIDIA-SMI 440.64.00    Driver Version: 418.67       CUDA Version: 10.1     |\n",
            "|-------------------------------+----------------------+----------------------+\n",
            "| GPU  Name        Persistence-M| Bus-Id        Disp.A | Volatile Uncorr. ECC |\n",
            "| Fan  Temp  Perf  Pwr:Usage/Cap|         Memory-Usage | GPU-Util  Compute M. |\n",
            "|===============================+======================+======================|\n",
            "|   0  Tesla K80           Off  | 00000000:00:04.0 Off |                    0 |\n",
            "| N/A   73C    P0    80W / 149W |   4210MiB / 11441MiB |      0%      Default |\n",
            "+-------------------------------+----------------------+----------------------+\n",
            "                                                                               \n",
            "+-----------------------------------------------------------------------------+\n",
            "| Processes:                                                       GPU Memory |\n",
            "|  GPU       PID   Type   Process name                             Usage      |\n",
            "|=============================================================================|\n",
            "+-----------------------------------------------------------------------------+\n"
          ],
          "name": "stdout"
        }
      ]
    },
    {
      "cell_type": "code",
      "metadata": {
        "id": "82DlAAmHsb7r",
        "colab_type": "code",
        "colab": {}
      },
      "source": [
        ""
      ],
      "execution_count": 0,
      "outputs": []
    }
  ]
}